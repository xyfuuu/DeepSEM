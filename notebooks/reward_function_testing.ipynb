{
 "cells": [
  {
   "cell_type": "markdown",
   "metadata": {},
   "source": [
    "# Reward Function Testing\n",
    "\n",
    "It is a truth universally acknowledged, that a good reward function is the key to Reinforcement Learning. This notebook aims to test various reward functions to generally propose a good reward function for DSEM."
   ]
  },
  {
   "cell_type": "code",
   "execution_count": 3,
   "metadata": {},
   "outputs": [],
   "source": [
    "import numpy as np\n",
    "import pandas as pd\n",
    "import seaborn as sns\n",
    "import autogluon as ag\n",
    "import rpy2.robjects as ro\n",
    "import matplotlib.pyplot as plt\n",
    "from factor_analyzer import FactorAnalyzer, ConfirmatoryFactorAnalyzer, ModelSpecificationParser\n",
    "from factor_analyzer.factor_analyzer import calculate_bartlett_sphericity, calculate_kmo\n",
    "\n",
    "import sys\n",
    "sys.path.insert(0, '..')\n",
    "from SEM import SemModel"
   ]
  },
  {
   "cell_type": "markdown",
   "metadata": {},
   "source": [
    "## Read Data"
   ]
  },
  {
   "cell_type": "code",
   "execution_count": 2,
   "metadata": {},
   "outputs": [
    {
     "data": {
      "text/html": [
       "<div>\n",
       "<style scoped>\n",
       "    .dataframe tbody tr th:only-of-type {\n",
       "        vertical-align: middle;\n",
       "    }\n",
       "\n",
       "    .dataframe tbody tr th {\n",
       "        vertical-align: top;\n",
       "    }\n",
       "\n",
       "    .dataframe thead th {\n",
       "        text-align: right;\n",
       "    }\n",
       "</style>\n",
       "<table border=\"1\" class=\"dataframe\">\n",
       "  <thead>\n",
       "    <tr style=\"text-align: right;\">\n",
       "      <th></th>\n",
       "      <th>18、(提前提供课程资料，方便学生课前预习)</th>\n",
       "      <th>18、(重视学生的课堂出勤考评)</th>\n",
       "      <th>18、(对学生作业及学业表现给予及时有效的反馈)</th>\n",
       "      <th>18、(课堂引入互动环节，注重学生参与（提问讨论）)</th>\n",
       "      <th>18、(让学生个体或小组选择主题，完成讨论、设计、研究展示)</th>\n",
       "      <th>18、(课后为学生提供辅导答疑)</th>\n",
       "      <th>18、(课程成绩考核除考试外，纳入课堂参与、小论文、课堂研究展示等过程性评价)</th>\n",
       "      <th>19、(课前课后预复习)</th>\n",
       "      <th>19、(课堂上提问或主动回答问题)</th>\n",
       "      <th>19、(积极参与小组合作学习或课程有关的问题)</th>\n",
       "      <th>...</th>\n",
       "      <th>20、(课前提供了充足的课程阅读文献资料)</th>\n",
       "      <th>20、(课前提供了详尽的课程说明（包括教学平台使用说明）)</th>\n",
       "      <th>20、(课程内容浓缩微型化，适应在线学习注意力时长并合理设置课间休息)</th>\n",
       "      <th>20、(课程内容呈现形式更为多样化)</th>\n",
       "      <th>20、(课程增加和优化学生讨论或观点交流环节)</th>\n",
       "      <th>20、(课程提升了学生合作学习)</th>\n",
       "      <th>20、(课程教学进度合理，适合学生理解)</th>\n",
       "      <th>20、(课程增加了课外阅读或作业要求等挑战度)</th>\n",
       "      <th>20、(课程开通了微信群、公邮等辅助交流工具)</th>\n",
       "      <th>21、相较于以往的面授课程，在线教学总体质量：</th>\n",
       "    </tr>\n",
       "  </thead>\n",
       "  <tbody>\n",
       "    <tr>\n",
       "      <th>count</th>\n",
       "      <td>2927.000000</td>\n",
       "      <td>2927.000000</td>\n",
       "      <td>2927.000000</td>\n",
       "      <td>2927.000000</td>\n",
       "      <td>2927.000000</td>\n",
       "      <td>2927.000000</td>\n",
       "      <td>2927.000000</td>\n",
       "      <td>2927.000000</td>\n",
       "      <td>2927.000000</td>\n",
       "      <td>2927.000000</td>\n",
       "      <td>...</td>\n",
       "      <td>2927.000000</td>\n",
       "      <td>2927.000000</td>\n",
       "      <td>2927.000000</td>\n",
       "      <td>2927.000000</td>\n",
       "      <td>2927.000000</td>\n",
       "      <td>2927.000000</td>\n",
       "      <td>2927.000000</td>\n",
       "      <td>2927.000000</td>\n",
       "      <td>2927.000000</td>\n",
       "      <td>2927.000000</td>\n",
       "    </tr>\n",
       "    <tr>\n",
       "      <th>mean</th>\n",
       "      <td>5.008200</td>\n",
       "      <td>5.149983</td>\n",
       "      <td>4.975401</td>\n",
       "      <td>4.922446</td>\n",
       "      <td>4.682269</td>\n",
       "      <td>4.820294</td>\n",
       "      <td>4.972668</td>\n",
       "      <td>4.156474</td>\n",
       "      <td>4.049880</td>\n",
       "      <td>4.459857</td>\n",
       "      <td>...</td>\n",
       "      <td>4.165699</td>\n",
       "      <td>4.265801</td>\n",
       "      <td>4.064913</td>\n",
       "      <td>4.181756</td>\n",
       "      <td>4.096003</td>\n",
       "      <td>4.005466</td>\n",
       "      <td>4.102494</td>\n",
       "      <td>4.203963</td>\n",
       "      <td>4.519986</td>\n",
       "      <td>5.679535</td>\n",
       "    </tr>\n",
       "    <tr>\n",
       "      <th>std</th>\n",
       "      <td>1.155362</td>\n",
       "      <td>1.105377</td>\n",
       "      <td>1.122112</td>\n",
       "      <td>1.146691</td>\n",
       "      <td>1.262600</td>\n",
       "      <td>1.205120</td>\n",
       "      <td>1.136274</td>\n",
       "      <td>1.310655</td>\n",
       "      <td>1.336014</td>\n",
       "      <td>1.207891</td>\n",
       "      <td>...</td>\n",
       "      <td>1.355306</td>\n",
       "      <td>1.298194</td>\n",
       "      <td>1.353922</td>\n",
       "      <td>1.341450</td>\n",
       "      <td>1.347135</td>\n",
       "      <td>1.385146</td>\n",
       "      <td>1.289218</td>\n",
       "      <td>1.277230</td>\n",
       "      <td>1.230255</td>\n",
       "      <td>2.336185</td>\n",
       "    </tr>\n",
       "    <tr>\n",
       "      <th>min</th>\n",
       "      <td>1.000000</td>\n",
       "      <td>1.000000</td>\n",
       "      <td>1.000000</td>\n",
       "      <td>1.000000</td>\n",
       "      <td>1.000000</td>\n",
       "      <td>1.000000</td>\n",
       "      <td>1.000000</td>\n",
       "      <td>1.000000</td>\n",
       "      <td>1.000000</td>\n",
       "      <td>1.000000</td>\n",
       "      <td>...</td>\n",
       "      <td>1.000000</td>\n",
       "      <td>1.000000</td>\n",
       "      <td>1.000000</td>\n",
       "      <td>1.000000</td>\n",
       "      <td>1.000000</td>\n",
       "      <td>1.000000</td>\n",
       "      <td>1.000000</td>\n",
       "      <td>1.000000</td>\n",
       "      <td>1.000000</td>\n",
       "      <td>1.000000</td>\n",
       "    </tr>\n",
       "    <tr>\n",
       "      <th>25%</th>\n",
       "      <td>4.000000</td>\n",
       "      <td>5.000000</td>\n",
       "      <td>4.000000</td>\n",
       "      <td>4.000000</td>\n",
       "      <td>4.000000</td>\n",
       "      <td>4.000000</td>\n",
       "      <td>4.000000</td>\n",
       "      <td>3.000000</td>\n",
       "      <td>3.000000</td>\n",
       "      <td>4.000000</td>\n",
       "      <td>...</td>\n",
       "      <td>3.000000</td>\n",
       "      <td>3.000000</td>\n",
       "      <td>3.000000</td>\n",
       "      <td>3.000000</td>\n",
       "      <td>3.000000</td>\n",
       "      <td>3.000000</td>\n",
       "      <td>3.000000</td>\n",
       "      <td>3.000000</td>\n",
       "      <td>4.000000</td>\n",
       "      <td>4.000000</td>\n",
       "    </tr>\n",
       "    <tr>\n",
       "      <th>50%</th>\n",
       "      <td>5.000000</td>\n",
       "      <td>6.000000</td>\n",
       "      <td>5.000000</td>\n",
       "      <td>5.000000</td>\n",
       "      <td>5.000000</td>\n",
       "      <td>5.000000</td>\n",
       "      <td>5.000000</td>\n",
       "      <td>4.000000</td>\n",
       "      <td>4.000000</td>\n",
       "      <td>5.000000</td>\n",
       "      <td>...</td>\n",
       "      <td>4.000000</td>\n",
       "      <td>4.000000</td>\n",
       "      <td>4.000000</td>\n",
       "      <td>4.000000</td>\n",
       "      <td>4.000000</td>\n",
       "      <td>4.000000</td>\n",
       "      <td>4.000000</td>\n",
       "      <td>4.000000</td>\n",
       "      <td>5.000000</td>\n",
       "      <td>5.000000</td>\n",
       "    </tr>\n",
       "    <tr>\n",
       "      <th>75%</th>\n",
       "      <td>6.000000</td>\n",
       "      <td>6.000000</td>\n",
       "      <td>6.000000</td>\n",
       "      <td>6.000000</td>\n",
       "      <td>6.000000</td>\n",
       "      <td>6.000000</td>\n",
       "      <td>6.000000</td>\n",
       "      <td>5.000000</td>\n",
       "      <td>5.000000</td>\n",
       "      <td>5.000000</td>\n",
       "      <td>...</td>\n",
       "      <td>5.000000</td>\n",
       "      <td>5.000000</td>\n",
       "      <td>5.000000</td>\n",
       "      <td>5.000000</td>\n",
       "      <td>5.000000</td>\n",
       "      <td>5.000000</td>\n",
       "      <td>5.000000</td>\n",
       "      <td>5.000000</td>\n",
       "      <td>6.000000</td>\n",
       "      <td>7.000000</td>\n",
       "    </tr>\n",
       "    <tr>\n",
       "      <th>max</th>\n",
       "      <td>6.000000</td>\n",
       "      <td>6.000000</td>\n",
       "      <td>6.000000</td>\n",
       "      <td>6.000000</td>\n",
       "      <td>6.000000</td>\n",
       "      <td>6.000000</td>\n",
       "      <td>6.000000</td>\n",
       "      <td>6.000000</td>\n",
       "      <td>6.000000</td>\n",
       "      <td>6.000000</td>\n",
       "      <td>...</td>\n",
       "      <td>6.000000</td>\n",
       "      <td>6.000000</td>\n",
       "      <td>6.000000</td>\n",
       "      <td>6.000000</td>\n",
       "      <td>6.000000</td>\n",
       "      <td>6.000000</td>\n",
       "      <td>6.000000</td>\n",
       "      <td>6.000000</td>\n",
       "      <td>6.000000</td>\n",
       "      <td>10.000000</td>\n",
       "    </tr>\n",
       "  </tbody>\n",
       "</table>\n",
       "<p>8 rows × 27 columns</p>\n",
       "</div>"
      ],
      "text/plain": [
       "       18、(提前提供课程资料，方便学生课前预习)  18、(重视学生的课堂出勤考评)  18、(对学生作业及学业表现给予及时有效的反馈)  \\\n",
       "count             2927.000000       2927.000000               2927.000000   \n",
       "mean                 5.008200          5.149983                  4.975401   \n",
       "std                  1.155362          1.105377                  1.122112   \n",
       "min                  1.000000          1.000000                  1.000000   \n",
       "25%                  4.000000          5.000000                  4.000000   \n",
       "50%                  5.000000          6.000000                  5.000000   \n",
       "75%                  6.000000          6.000000                  6.000000   \n",
       "max                  6.000000          6.000000                  6.000000   \n",
       "\n",
       "       18、(课堂引入互动环节，注重学生参与（提问讨论）)  18、(让学生个体或小组选择主题，完成讨论、设计、研究展示)  \\\n",
       "count                 2927.000000                     2927.000000   \n",
       "mean                     4.922446                        4.682269   \n",
       "std                      1.146691                        1.262600   \n",
       "min                      1.000000                        1.000000   \n",
       "25%                      4.000000                        4.000000   \n",
       "50%                      5.000000                        5.000000   \n",
       "75%                      6.000000                        6.000000   \n",
       "max                      6.000000                        6.000000   \n",
       "\n",
       "       18、(课后为学生提供辅导答疑)  18、(课程成绩考核除考试外，纳入课堂参与、小论文、课堂研究展示等过程性评价)  \\\n",
       "count       2927.000000                              2927.000000   \n",
       "mean           4.820294                                 4.972668   \n",
       "std            1.205120                                 1.136274   \n",
       "min            1.000000                                 1.000000   \n",
       "25%            4.000000                                 4.000000   \n",
       "50%            5.000000                                 5.000000   \n",
       "75%            6.000000                                 6.000000   \n",
       "max            6.000000                                 6.000000   \n",
       "\n",
       "       19、(课前课后预复习)  19、(课堂上提问或主动回答问题)  19、(积极参与小组合作学习或课程有关的问题)  ...  \\\n",
       "count   2927.000000        2927.000000              2927.000000  ...   \n",
       "mean       4.156474           4.049880                 4.459857  ...   \n",
       "std        1.310655           1.336014                 1.207891  ...   \n",
       "min        1.000000           1.000000                 1.000000  ...   \n",
       "25%        3.000000           3.000000                 4.000000  ...   \n",
       "50%        4.000000           4.000000                 5.000000  ...   \n",
       "75%        5.000000           5.000000                 5.000000  ...   \n",
       "max        6.000000           6.000000                 6.000000  ...   \n",
       "\n",
       "       20、(课前提供了充足的课程阅读文献资料)  20、(课前提供了详尽的课程说明（包括教学平台使用说明）)  \\\n",
       "count            2927.000000                    2927.000000   \n",
       "mean                4.165699                       4.265801   \n",
       "std                 1.355306                       1.298194   \n",
       "min                 1.000000                       1.000000   \n",
       "25%                 3.000000                       3.000000   \n",
       "50%                 4.000000                       4.000000   \n",
       "75%                 5.000000                       5.000000   \n",
       "max                 6.000000                       6.000000   \n",
       "\n",
       "       20、(课程内容浓缩微型化，适应在线学习注意力时长并合理设置课间休息)  20、(课程内容呈现形式更为多样化)  \\\n",
       "count                          2927.000000         2927.000000   \n",
       "mean                              4.064913            4.181756   \n",
       "std                               1.353922            1.341450   \n",
       "min                               1.000000            1.000000   \n",
       "25%                               3.000000            3.000000   \n",
       "50%                               4.000000            4.000000   \n",
       "75%                               5.000000            5.000000   \n",
       "max                               6.000000            6.000000   \n",
       "\n",
       "       20、(课程增加和优化学生讨论或观点交流环节)  20、(课程提升了学生合作学习)  20、(课程教学进度合理，适合学生理解)  \\\n",
       "count              2927.000000       2927.000000           2927.000000   \n",
       "mean                  4.096003          4.005466              4.102494   \n",
       "std                   1.347135          1.385146              1.289218   \n",
       "min                   1.000000          1.000000              1.000000   \n",
       "25%                   3.000000          3.000000              3.000000   \n",
       "50%                   4.000000          4.000000              4.000000   \n",
       "75%                   5.000000          5.000000              5.000000   \n",
       "max                   6.000000          6.000000              6.000000   \n",
       "\n",
       "       20、(课程增加了课外阅读或作业要求等挑战度)  20、(课程开通了微信群、公邮等辅助交流工具)  \\\n",
       "count              2927.000000              2927.000000   \n",
       "mean                  4.203963                 4.519986   \n",
       "std                   1.277230                 1.230255   \n",
       "min                   1.000000                 1.000000   \n",
       "25%                   3.000000                 4.000000   \n",
       "50%                   4.000000                 5.000000   \n",
       "75%                   5.000000                 6.000000   \n",
       "max                   6.000000                 6.000000   \n",
       "\n",
       "       21、相较于以往的面授课程，在线教学总体质量：  \n",
       "count              2927.000000  \n",
       "mean                  5.679535  \n",
       "std                   2.336185  \n",
       "min                   1.000000  \n",
       "25%                   4.000000  \n",
       "50%                   5.000000  \n",
       "75%                   7.000000  \n",
       "max                  10.000000  \n",
       "\n",
       "[8 rows x 27 columns]"
      ]
     },
     "execution_count": 2,
     "metadata": {},
     "output_type": "execute_result"
    }
   ],
   "source": [
    "# Read excel data to Dataframe.\n",
    "df = pd.read_excel('../data/online_education_learning_focus.xlsx')\n",
    "\n",
    "# Remove incomplete response.\n",
    "df.dropna(inplace=True)\n",
    "\n",
    "# Show basic information on this dataset.\n",
    "# This is a dataset provided by a course from PKU summer school \n",
    "# and it's not public, so please do not spread it.\n",
    "# I choose this data because I ran detailed OLS and SEM on this dataset.\n",
    "df.describe()"
   ]
  },
  {
   "cell_type": "markdown",
   "metadata": {},
   "source": [
    "## Conventional SEM\n",
    "\n",
    "After loading this dataset, let's play with the conventional SEM. It is a truth universally acknowledged, that SEM is rather confirmative than explorative. So the very only way to play with the conventional SEM is to run SEM on a manually proposed model.\n",
    "\n",
    "Therefore, we use the model from lavaan (a package in R) official tutorial as an example.\n",
    "\n",
    "### Decide How Many Factors to Use"
   ]
  },
  {
   "cell_type": "code",
   "execution_count": 10,
   "metadata": {},
   "outputs": [
    {
     "name": "stderr",
     "output_type": "stream",
     "text": [
      "/Library/Frameworks/Python.framework/Versions/3.7/lib/python3.7/site-packages/factor_analyzer/factor_analyzer.py:342: DeprecationWarning: scipy.sum is deprecated and will be removed in SciPy 2.0.0, use numpy.sum instead\n",
      "  error = sp.sum(residual)\n"
     ]
    },
    {
     "data": {
      "image/png": "[encoded data removed]",
      "text/plain": [
       "<Figure size 432x288 with 1 Axes>"
      ]
     },
     "metadata": {
      "needs_background": "light"
     },
     "output_type": "display_data"
    }
   ],
   "source": [
    "fa = FactorAnalyzer(25, rotation=None)\n",
    "fa.fit(df)\n",
    "ev, v = fa.get_eigenvalues()\n",
    "\n",
    "# Create scree plot using matplotlib\n",
    "plt.scatter(range(1,df.shape[1]+1),ev)\n",
    "plt.plot(range(1,df.shape[1]+1),ev)\n",
    "plt.title('Scree Plot')\n",
    "plt.xlabel('Factors')\n",
    "plt.ylabel('Eigenvalue')\n",
    "plt.grid()\n",
    "plt.show()"
   ]
  },
  {
   "cell_type": "code",
   "execution_count": 13,
   "metadata": {},
   "outputs": [
    {
     "name": "stderr",
     "output_type": "stream",
     "text": [
      "/Library/Frameworks/Python.framework/Versions/3.7/lib/python3.7/site-packages/factor_analyzer/factor_analyzer.py:342: DeprecationWarning: scipy.sum is deprecated and will be removed in SciPy 2.0.0, use numpy.sum instead\n",
      "  error = sp.sum(residual)\n"
     ]
    },
    {
     "name": "stdout",
     "output_type": "stream",
     "text": [
      "Total Variance Explained\n",
      "\n",
      "[0.25284557 0.44925866 0.58802421 0.65731905]\n"
     ]
    },
    {
     "data": {
      "image/png": "[encoded data removed]",
      "text/plain": [
       "<Figure size 1440x1440 with 2 Axes>"
      ]
     },
     "metadata": {
      "needs_background": "light"
     },
     "output_type": "display_data"
    }
   ],
   "source": [
    "# Show how variables contribute to those 3 factors.\n",
    "fa = FactorAnalyzer(4, rotation=\"varimax\")\n",
    "fa.fit(df)\n",
    "\n",
    "# Plot the heatmap.\n",
    "df_cm = pd.DataFrame(np.abs(fa.loadings_), index=df.columns)\n",
    "plt.figure(figsize = (20,20))\n",
    "ax = sns.heatmap(df_cm, annot=True, cmap=\"BuPu\")\n",
    "plt.title('Factor Analysis', fontsize='xx-large')\n",
    "plt.ylabel('Sepal Width', fontsize='xx-large')\n",
    "\n",
    "# The higher TVE is, the better.\n",
    "print('Total Variance Explained\\n')\n",
    "print(fa.get_factor_variance()[2])"
   ]
  },
  {
   "cell_type": "markdown",
   "metadata": {},
   "source": [
    "## Helper Functions\n",
    "\n",
    "This section is no big deal. It just defines several helper functions so that we can focus on the reward function in latter sections."
   ]
  },
  {
   "cell_type": "code",
   "execution_count": 5,
   "metadata": {},
   "outputs": [
    {
     "name": "stderr",
     "output_type": "stream",
     "text": [
      "INFO:root:Load pretrained SentenceTransformer: distiluse-base-multilingual-cased\n",
      "INFO:root:Did not find a '/' or '\\' in the name. Assume to download model from server.\n",
      "INFO:root:Downloading sentence transformer model from https://public.ukp.informatik.tu-darmstadt.de/reimers/sentence-transformers/v0.2/distiluse-base-multilingual-cased.zip and saving it at /Users/qizy/.cache/torch/sentence_transformers/public.ukp.informatik.tu-darmstadt.de_reimers_sentence-transformers_v0.2_distiluse-base-multilingual-cased.zip\n",
      "100%|██████████| 504M/504M [15:40<00:00, 536kB/s]     \n",
      "INFO:root:Load SentenceTransformer from folder: /Users/qizy/.cache/torch/sentence_transformers/public.ukp.informatik.tu-darmstadt.de_reimers_sentence-transformers_v0.2_distiluse-base-multilingual-cased.zip\n",
      "INFO:transformers.configuration_utils:loading configuration file /Users/qizy/.cache/torch/sentence_transformers/public.ukp.informatik.tu-darmstadt.de_reimers_sentence-transformers_v0.2_distiluse-base-multilingual-cased.zip/0_DistilBERT/config.json\n",
      "INFO:transformers.configuration_utils:Model config DistilBertConfig {\n",
      "  \"activation\": \"gelu\",\n",
      "  \"attention_dropout\": 0.1,\n",
      "  \"dim\": 768,\n",
      "  \"dropout\": 0.1,\n",
      "  \"hidden_dim\": 3072,\n",
      "  \"initializer_range\": 0.02,\n",
      "  \"max_position_embeddings\": 512,\n",
      "  \"model_type\": \"distilbert\",\n",
      "  \"n_heads\": 12,\n",
      "  \"n_layers\": 6,\n",
      "  \"output_hidden_states\": true,\n",
      "  \"output_past\": true,\n",
      "  \"pad_token_id\": 0,\n",
      "  \"qa_dropout\": 0.1,\n",
      "  \"seq_classif_dropout\": 0.2,\n",
      "  \"sinusoidal_pos_embds\": false,\n",
      "  \"tie_weights_\": true,\n",
      "  \"vocab_size\": 119547\n",
      "}\n",
      "\n",
      "INFO:transformers.modeling_utils:loading weights file /Users/qizy/.cache/torch/sentence_transformers/public.ukp.informatik.tu-darmstadt.de_reimers_sentence-transformers_v0.2_distiluse-base-multilingual-cased.zip/0_DistilBERT/pytorch_model.bin\n",
      "INFO:transformers.modeling_utils:All model checkpoint weights were used when initializing DistilBertModel.\n",
      "\n",
      "INFO:transformers.modeling_utils:All the weights of DistilBertModel were initialized from the model checkpoint at /Users/qizy/.cache/torch/sentence_transformers/public.ukp.informatik.tu-darmstadt.de_reimers_sentence-transformers_v0.2_distiluse-base-multilingual-cased.zip/0_DistilBERT.\n",
      "If your task is similar to the task the model of the ckeckpoint was trained on, you can already use DistilBertModel for predictions without further training.\n",
      "INFO:transformers.tokenization_utils_base:Model name '/Users/qizy/.cache/torch/sentence_transformers/public.ukp.informatik.tu-darmstadt.de_reimers_sentence-transformers_v0.2_distiluse-base-multilingual-cased.zip/0_DistilBERT' not found in model shortcut name list (distilbert-base-uncased, distilbert-base-uncased-distilled-squad, distilbert-base-cased, distilbert-base-cased-distilled-squad, distilbert-base-german-cased, distilbert-base-multilingual-cased). Assuming '/Users/qizy/.cache/torch/sentence_transformers/public.ukp.informatik.tu-darmstadt.de_reimers_sentence-transformers_v0.2_distiluse-base-multilingual-cased.zip/0_DistilBERT' is a path, a model identifier, or url to a directory containing tokenizer files.\n",
      "INFO:transformers.tokenization_utils_base:Didn't find file /Users/qizy/.cache/torch/sentence_transformers/public.ukp.informatik.tu-darmstadt.de_reimers_sentence-transformers_v0.2_distiluse-base-multilingual-cased.zip/0_DistilBERT/tokenizer.json. We won't load it.\n",
      "INFO:transformers.tokenization_utils_base:loading file /Users/qizy/.cache/torch/sentence_transformers/public.ukp.informatik.tu-darmstadt.de_reimers_sentence-transformers_v0.2_distiluse-base-multilingual-cased.zip/0_DistilBERT/vocab.txt\n",
      "INFO:transformers.tokenization_utils_base:loading file /Users/qizy/.cache/torch/sentence_transformers/public.ukp.informatik.tu-darmstadt.de_reimers_sentence-transformers_v0.2_distiluse-base-multilingual-cased.zip/0_DistilBERT/added_tokens.json\n",
      "INFO:transformers.tokenization_utils_base:loading file /Users/qizy/.cache/torch/sentence_transformers/public.ukp.informatik.tu-darmstadt.de_reimers_sentence-transformers_v0.2_distiluse-base-multilingual-cased.zip/0_DistilBERT/special_tokens_map.json\n",
      "INFO:transformers.tokenization_utils_base:loading file /Users/qizy/.cache/torch/sentence_transformers/public.ukp.informatik.tu-darmstadt.de_reimers_sentence-transformers_v0.2_distiluse-base-multilingual-cased.zip/0_DistilBERT/tokenizer_config.json\n",
      "INFO:transformers.tokenization_utils_base:loading file None\n",
      "INFO:root:Use pytorch device: cpu\n"
     ]
    }
   ],
   "source": [
    "from sentence_transformers import SentenceTransformer\n",
    "model = SentenceTransformer('distiluse-base-multilingual-cased')"
   ]
  },
  {
   "cell_type": "code",
   "execution_count": null,
   "metadata": {},
   "outputs": [],
   "source": [
    "sentences = ['This framework generates embeddings for each input sentence',\n",
    "    'Sentences are passed as a list of string.', \n",
    "    'The quick brown fox jumps over the lazy dog.']\n",
    "sentence_embeddings = model.encode(sentences)"
   ]
  },
  {
   "cell_type": "code",
   "execution_count": null,
   "metadata": {},
   "outputs": [],
   "source": []
  },
  {
   "cell_type": "markdown",
   "metadata": {},
   "source": [
    "## Vanilla Method\n",
    "\n",
    "This is the baseline using the most frequently used two indexes in social science. In this approach, the RL converges sometimes, while it just blew up in other times."
   ]
  },
  {
   "cell_type": "markdown",
   "metadata": {},
   "source": [
    "# NAS Approach"
   ]
  },
  {
   "cell_type": "markdown",
   "metadata": {},
   "source": [
    "## Specify the Search Space"
   ]
  },
  {
   "cell_type": "code",
   "execution_count": null,
   "metadata": {},
   "outputs": [],
   "source": [
    "factorNum = 4\n",
    "varNames = df.columns\n",
    "varNum = len(varNames)\n",
    "\n",
    "searchVar = dict(zip(\n",
    "    [str(i) for i in range(varNum)], \n",
    "    [ag.space.Categorical(*list(range(factorNum))) for i in range(varNum)]))\n",
    "\n",
    "covariance = np.cov(df, rowvar=False)\n",
    "\n",
    "# Arg model_dict show be formatted as follow:\n",
    "# model_dict = {'Factor1': ['Val1', 'Val2'], 'Factor2': ['Val3', 'Val4']}\n",
    "def evaluateSolution(model_dict, verbose=False):\n",
    "    model_spec = ModelSpecificationParser.parse_model_specification_from_dict(df, model_dict)\n",
    "\n",
    "    cfa = ConfirmatoryFactorAnalyzer(model_spec, disp=False) \n",
    "    cfa.fit(df.values)\n",
    "    \n",
    "    if (verbose):\n",
    "        print('AIC: %f' % cfa.aic_)\n",
    "        print('BIC: %f' % cfa.bic_)\n",
    "        print('Log Likehood: %f' % cfa.log_likelihood_)\n",
    "        print('Loadings: ', cfa.loadings_)\n",
    "    \n",
    "    AVE = np.sum(cfa.loadings_)\n",
    "    varianceResedual = np.sum(np.abs(cfa.get_model_implied_cov() - covariance)) / 20\n",
    "    \n",
    "    return AVE - varianceResedual\n",
    "\n",
    "@ag.args(**searchVar)\n",
    "def rl_simulation(args, reporter):\n",
    "    model_dict = dict(zip(\n",
    "        [str(i) for i in range(factorNum)], \n",
    "        [[] for i in range(factorNum)]))\n",
    "        \n",
    "    for var, factor in args.items():\n",
    "        if (var == 'task_id'): continue\n",
    "        model_dict[str(factor)].append(varNames[int(var)])\n",
    "    \n",
    "    reward = evaluateSolution(model_dict)\n",
    "    \n",
    "    reporter(reward=reward)"
   ]
  },
  {
   "cell_type": "markdown",
   "metadata": {},
   "source": [
    "## Use Random Search as Another Baseline"
   ]
  },
  {
   "cell_type": "code",
   "execution_count": null,
   "metadata": {},
   "outputs": [],
   "source": [
    "random_scheduler = ag.scheduler.FIFOScheduler(rl_simulation,\n",
    "                                              resource={'num_cpus': 1, 'num_gpus': 0},\n",
    "                                              num_trials=100,\n",
    "                                              reward_attr='reward')\n",
    "with warnings.catch_warnings():\n",
    "    warnings.simplefilter(\"ignore\")\n",
    "    random_scheduler.run()\n",
    "    random_scheduler.join_jobs()\n",
    "    \n",
    "print('Best config: {}, best reward: {}'.format(random_scheduler.get_best_config(), random_scheduler.get_best_reward()))"
   ]
  },
  {
   "cell_type": "markdown",
   "metadata": {},
   "source": [
    "## RL NAS"
   ]
  },
  {
   "cell_type": "code",
   "execution_count": null,
   "metadata": {},
   "outputs": [],
   "source": [
    "rl_scheduler = ag.scheduler.RLScheduler(rl_simulation,\n",
    "                                        resource={'num_cpus': 1, 'num_gpus': 0},\n",
    "                                        num_trials=100,\n",
    "                                        reward_attr='reward',\n",
    "                                        controller_batch_size=4,\n",
    "                                        controller_lr=5e-3,)\n",
    "with warnings.catch_warnings():\n",
    "    warnings.simplefilter(\"ignore\")\n",
    "    rl_scheduler.run()\n",
    "    rl_scheduler.join_jobs()\n",
    "    \n",
    "print('Best config: {}, best reward: {}'.format(rl_scheduler.get_best_config(), rl_scheduler.get_best_reward()))"
   ]
  },
  {
   "cell_type": "markdown",
   "metadata": {},
   "source": [
    "## Plot the Learning Curve"
   ]
  },
  {
   "cell_type": "code",
   "execution_count": null,
   "metadata": {},
   "outputs": [],
   "source": [
    "results_rl = [v[0]['reward'] for v in rl_scheduler.training_history.values()]\n",
    "results_random = [v[0]['reward'] for v in random_scheduler.training_history.values()]\n",
    "\n",
    "results1 = [np.max(results_random[i:i+10]) for i in range(0, len(results_random), 10)]\n",
    "results2 = [np.max(results_rl[i:i+10]) for i in range(0, len(results_rl), 10)]\n",
    "\n",
    "plt.plot(range(len(results2)), results2, range(len(results1)), results1)"
   ]
  },
  {
   "cell_type": "markdown",
   "metadata": {},
   "source": [
    "# Compare Those Results"
   ]
  },
  {
   "cell_type": "markdown",
   "metadata": {},
   "source": [
    "## Evaluate the Solution from Conventional CFA"
   ]
  },
  {
   "cell_type": "code",
   "execution_count": null,
   "metadata": {},
   "outputs": [],
   "source": [
    "convSolution = {str(i): [] for i in range(factorNum)}\n",
    "\n",
    "for val, fac in enumerate(np.argmax(np.abs(fa.loadings_), axis=1)):\n",
    "    convSolution[str(fac)].append(varNames[val])\n",
    "\n",
    "print('Index: %f' % evaluateSolution(convSolution))"
   ]
  },
  {
   "cell_type": "markdown",
   "metadata": {},
   "source": [
    "## Evaluate the Solution from Random Search"
   ]
  },
  {
   "cell_type": "code",
   "execution_count": null,
   "metadata": {},
   "outputs": [],
   "source": [
    "randSolution = {str(i): [] for i in range(factorNum)}\n",
    "\n",
    "randSolutionFA = random_scheduler.get_best_config()\n",
    "for val, fac in randSolutionFA.items():\n",
    "    randSolution[str(fac)].append(varNames[int(val.split('▁')[0])])\n",
    "    \n",
    "print('Index: %f' % evaluateSolution(randSolution))"
   ]
  },
  {
   "cell_type": "markdown",
   "metadata": {},
   "source": [
    "## Evaluate the Solution from RL Search"
   ]
  },
  {
   "cell_type": "code",
   "execution_count": null,
   "metadata": {},
   "outputs": [],
   "source": [
    "reinSolution = {str(i): [] for i in range(factorNum)}\n",
    "\n",
    "reinSolutionFA = rl_scheduler.get_best_config()\n",
    "for val, fac in reinSolutionFA.items():\n",
    "    reinSolution[str(fac)].append(varNames[int(val.split('▁')[0])])\n",
    "\n",
    "print('Index: %f' % evaluateSolution(reinSolution))"
   ]
  },
  {
   "cell_type": "markdown",
   "metadata": {},
   "source": [
    "## Show the Result from RL NAS"
   ]
  },
  {
   "cell_type": "code",
   "execution_count": null,
   "metadata": {},
   "outputs": [],
   "source": [
    "for i in reinSolution.keys():\n",
    "    print('The %sst factor include the following variables' % i)\n",
    "    for val in reinSolution[i]:\n",
    "        print(val)"
   ]
  },
  {
   "cell_type": "code",
   "execution_count": null,
   "metadata": {},
   "outputs": [],
   "source": []
  }
 ],
 "metadata": {
  "kernelspec": {
   "display_name": "Python 3",
   "language": "python",
   "name": "python3"
  },
  "language_info": {
   "codemirror_mode": {
    "name": "ipython",
    "version": 3
   },
   "file_extension": ".py",
   "mimetype": "text/x-python",
   "name": "python",
   "nbconvert_exporter": "python",
   "pygments_lexer": "ipython3",
   "version": "3.7.0"
  }
 },
 "nbformat": 4,
 "nbformat_minor": 2
}
