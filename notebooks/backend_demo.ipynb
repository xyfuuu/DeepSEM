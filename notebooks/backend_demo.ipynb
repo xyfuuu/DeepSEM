{
 "cells": [
  {
   "cell_type": "markdown",
   "metadata": {},
   "source": [
    "# Fully Funtioning Backend Demo\n",
    "\n",
    "This notebook is designed to show how the DSEM pipeline works. It's fully funtioning, using SEM and RL NAS. Please fasten your seat belt and enjoy the journey."
   ]
  },
  {
   "cell_type": "code",
   "execution_count": 1,
   "metadata": {},
   "outputs": [],
   "source": [
    "import numpy as np\n",
    "import pandas as pd\n",
    "import autogluon as ag\n",
    "import rpy2.rinterface_lib as rlib\n",
    "import rpy2.robjects as ro\n",
    "import matplotlib.pyplot as plt\n",
    "import math\n",
    "\n",
    "import sys\n",
    "sys.path.insert(0, '..')\n",
    "from SEM import SemModel"
   ]
  },
  {
   "cell_type": "markdown",
   "metadata": {},
   "source": [
    "## 1. Data\n",
    "\n",
    "In this demo, we use dataset _PoliticalDemocracy_ from Bollen's book on structural equation modeling published in 1989. We load this dataset in R and convert it to Python Dataframe for further usage."
   ]
  },
  {
   "cell_type": "code",
   "execution_count": 2,
   "metadata": {},
   "outputs": [
    {
     "data": {
      "text/html": [
       "<div>\n",
       "<style scoped>\n",
       "    .dataframe tbody tr th:only-of-type {\n",
       "        vertical-align: middle;\n",
       "    }\n",
       "\n",
       "    .dataframe tbody tr th {\n",
       "        vertical-align: top;\n",
       "    }\n",
       "\n",
       "    .dataframe thead th {\n",
       "        text-align: right;\n",
       "    }\n",
       "</style>\n",
       "<table border=\"1\" class=\"dataframe\">\n",
       "  <thead>\n",
       "    <tr style=\"text-align: right;\">\n",
       "      <th></th>\n",
       "      <th>y1</th>\n",
       "      <th>y2</th>\n",
       "      <th>y3</th>\n",
       "      <th>y4</th>\n",
       "      <th>y5</th>\n",
       "      <th>y6</th>\n",
       "      <th>y7</th>\n",
       "      <th>y8</th>\n",
       "      <th>x1</th>\n",
       "      <th>x2</th>\n",
       "      <th>x3</th>\n",
       "    </tr>\n",
       "  </thead>\n",
       "  <tbody>\n",
       "    <tr>\n",
       "      <th>count</th>\n",
       "      <td>75.000000</td>\n",
       "      <td>75.000000</td>\n",
       "      <td>75.000000</td>\n",
       "      <td>75.000000</td>\n",
       "      <td>75.000000</td>\n",
       "      <td>75.000000</td>\n",
       "      <td>75.000000</td>\n",
       "      <td>75.000000</td>\n",
       "      <td>75.000000</td>\n",
       "      <td>75.000000</td>\n",
       "      <td>75.000000</td>\n",
       "    </tr>\n",
       "    <tr>\n",
       "      <th>mean</th>\n",
       "      <td>5.464667</td>\n",
       "      <td>4.256443</td>\n",
       "      <td>6.563110</td>\n",
       "      <td>4.452533</td>\n",
       "      <td>5.136252</td>\n",
       "      <td>2.978074</td>\n",
       "      <td>6.196264</td>\n",
       "      <td>4.043390</td>\n",
       "      <td>5.054384</td>\n",
       "      <td>4.792195</td>\n",
       "      <td>3.557690</td>\n",
       "    </tr>\n",
       "    <tr>\n",
       "      <th>std</th>\n",
       "      <td>2.622702</td>\n",
       "      <td>3.947128</td>\n",
       "      <td>3.280891</td>\n",
       "      <td>3.349467</td>\n",
       "      <td>2.612602</td>\n",
       "      <td>3.372733</td>\n",
       "      <td>3.286240</td>\n",
       "      <td>3.245593</td>\n",
       "      <td>0.732904</td>\n",
       "      <td>1.510664</td>\n",
       "      <td>1.405711</td>\n",
       "    </tr>\n",
       "    <tr>\n",
       "      <th>min</th>\n",
       "      <td>1.250000</td>\n",
       "      <td>0.000000</td>\n",
       "      <td>0.000000</td>\n",
       "      <td>0.000000</td>\n",
       "      <td>0.000000</td>\n",
       "      <td>0.000000</td>\n",
       "      <td>0.000000</td>\n",
       "      <td>0.000000</td>\n",
       "      <td>3.784190</td>\n",
       "      <td>1.386294</td>\n",
       "      <td>1.001674</td>\n",
       "    </tr>\n",
       "    <tr>\n",
       "      <th>25%</th>\n",
       "      <td>2.900000</td>\n",
       "      <td>0.000000</td>\n",
       "      <td>3.766667</td>\n",
       "      <td>1.581500</td>\n",
       "      <td>3.691701</td>\n",
       "      <td>0.000000</td>\n",
       "      <td>3.477661</td>\n",
       "      <td>1.300916</td>\n",
       "      <td>4.477337</td>\n",
       "      <td>3.663233</td>\n",
       "      <td>2.300181</td>\n",
       "    </tr>\n",
       "    <tr>\n",
       "      <th>50%</th>\n",
       "      <td>5.400000</td>\n",
       "      <td>3.333333</td>\n",
       "      <td>6.666666</td>\n",
       "      <td>3.333333</td>\n",
       "      <td>5.000000</td>\n",
       "      <td>2.233333</td>\n",
       "      <td>6.666666</td>\n",
       "      <td>3.333333</td>\n",
       "      <td>5.075174</td>\n",
       "      <td>4.962845</td>\n",
       "      <td>3.568079</td>\n",
       "    </tr>\n",
       "    <tr>\n",
       "      <th>75%</th>\n",
       "      <td>7.500000</td>\n",
       "      <td>8.283332</td>\n",
       "      <td>9.999998</td>\n",
       "      <td>6.666666</td>\n",
       "      <td>7.500000</td>\n",
       "      <td>4.206853</td>\n",
       "      <td>9.999998</td>\n",
       "      <td>6.666666</td>\n",
       "      <td>5.515424</td>\n",
       "      <td>5.830362</td>\n",
       "      <td>4.522988</td>\n",
       "    </tr>\n",
       "    <tr>\n",
       "      <th>max</th>\n",
       "      <td>10.000000</td>\n",
       "      <td>9.999998</td>\n",
       "      <td>10.000000</td>\n",
       "      <td>10.000000</td>\n",
       "      <td>10.000000</td>\n",
       "      <td>9.999998</td>\n",
       "      <td>9.999998</td>\n",
       "      <td>10.000000</td>\n",
       "      <td>6.736967</td>\n",
       "      <td>7.872074</td>\n",
       "      <td>6.424591</td>\n",
       "    </tr>\n",
       "  </tbody>\n",
       "</table>\n",
       "</div>"
      ],
      "text/plain": [
       "              y1         y2         y3         y4         y5         y6  \\\n",
       "count  75.000000  75.000000  75.000000  75.000000  75.000000  75.000000   \n",
       "mean    5.464667   4.256443   6.563110   4.452533   5.136252   2.978074   \n",
       "std     2.622702   3.947128   3.280891   3.349467   2.612602   3.372733   \n",
       "min     1.250000   0.000000   0.000000   0.000000   0.000000   0.000000   \n",
       "25%     2.900000   0.000000   3.766667   1.581500   3.691701   0.000000   \n",
       "50%     5.400000   3.333333   6.666666   3.333333   5.000000   2.233333   \n",
       "75%     7.500000   8.283332   9.999998   6.666666   7.500000   4.206853   \n",
       "max    10.000000   9.999998  10.000000  10.000000  10.000000   9.999998   \n",
       "\n",
       "              y7         y8         x1         x2         x3  \n",
       "count  75.000000  75.000000  75.000000  75.000000  75.000000  \n",
       "mean    6.196264   4.043390   5.054384   4.792195   3.557690  \n",
       "std     3.286240   3.245593   0.732904   1.510664   1.405711  \n",
       "min     0.000000   0.000000   3.784190   1.386294   1.001674  \n",
       "25%     3.477661   1.300916   4.477337   3.663233   2.300181  \n",
       "50%     6.666666   3.333333   5.075174   4.962845   3.568079  \n",
       "75%     9.999998   6.666666   5.515424   5.830362   4.522988  \n",
       "max     9.999998  10.000000   6.736967   7.872074   6.424591  "
      ]
     },
     "execution_count": 2,
     "metadata": {},
     "output_type": "execute_result"
    }
   ],
   "source": [
    "# Load this dataset in R.\n",
    "ro.packages.importr('lavaan')\n",
    "rData = ro.r('PoliticalDemocracy')\n",
    "\n",
    "# Convert it to Python Dataframe.\n",
    "with ro.conversion.localconverter(ro.default_converter + ro.pandas2ri.converter):\n",
    "    data = ro.conversion.rpy2py(rData)\n",
    "data.describe()"
   ]
  },
  {
   "cell_type": "markdown",
   "metadata": {},
   "source": [
    "## 2. Conventional SEM\n",
    "\n",
    "After loading this dataset, let's play with the conventional SEM. It is a truth universally acknowledged, that SEM is rather confirmative than explorative. So the very only way to play with the conventional SEM is to run SEM on a manually proposed model.\n",
    "\n",
    "Therefore, we use the model from lavaan (a package in R) official tutorial as an example."
   ]
  },
  {
   "cell_type": "code",
   "execution_count": 3,
   "metadata": {},
   "outputs": [
    {
     "name": "stdout",
     "output_type": "stream",
     "text": [
      "AGFI: 0.765110 \n",
      "RMSEA: 0.101150\n"
     ]
    }
   ],
   "source": [
    "# Describe the model\n",
    "model = '''\n",
    "  # measurement model\n",
    "    ind60 =~ x1 + x2 + x3\n",
    "    dem60 =~ y1 + y2 + y3 + y4\n",
    "    dem65 =~ y5 + y6 + y7 + y8\n",
    "  # regressions\n",
    "    dem60 ~ ind60\n",
    "    dem65 ~ ind60 + dem60\n",
    "'''\n",
    "\n",
    "# Create the model and fit the data.\n",
    "sem = SemModel()\n",
    "fitRes = sem.fit_sem_model(model, data)\n",
    "assert fitRes['is_fitted']\n",
    "\n",
    "# Evaluate the model fitted.\n",
    "measureRes = sem.evaluate_sem_model()\n",
    "print('AGFI: %f \\nRMSEA: %f' % (\n",
    "    measureRes['agfi'], \n",
    "    measureRes['rmsea']))"
   ]
  },
  {
   "cell_type": "markdown",
   "metadata": {},
   "source": [
    "## 3. Deep SEM\n",
    "\n",
    "Now let's try to apply RL NAS technology to SEM. In this section, we define the search space first, and then the search strategy, finally let's combine everything together.\n",
    "\n",
    "Firstly, let's start with search space.\n",
    "\n",
    "### 3.1. Search Space"
   ]
  },
  {
   "cell_type": "code",
   "execution_count": 4,
   "metadata": {},
   "outputs": [],
   "source": [
    "facNames = ['factor1', 'factor2', 'factor3']  # Use the same factor number as the model propsoed above.\n",
    "facNum = len(facNames)\n",
    "varNames = data.columns\n",
    "varNum = len(varNames)\n",
    "\n",
    "# Define the search space.\n",
    "searchSpace = {var: ag.space.Categorical(*facNames) \n",
    "               for var in varNames}  # Define search space for measurement model\n",
    "for i in range(facNum):  # Define search space for regressions model\n",
    "    for j in range(i):\n",
    "        searchSpace[str((facNames[i], facNames[j]))] = ag.space.Categorical(*list(range(4)))\n",
    "\n",
    "def logErrorMsg(s):\n",
    "    pass\n",
    "\n",
    "rlib.callbacks.consolewrite_warnerror = logErrorMsg\n",
    "\n",
    "def evaluateSolution(model):\n",
    "    try:\n",
    "        sem = SemModel()\n",
    "\n",
    "        fitRes = sem.fit_sem_model(model, data)\n",
    "        if not fitRes['is_fitted']:\n",
    "            return 0\n",
    "\n",
    "        measureRes = sem.evaluate_sem_model()\n",
    "        if not measureRes['is_evaluated']:\n",
    "            return 0\n",
    "\n",
    "        AGFI = measureRes['agfi']\n",
    "        RMSEA = measureRes['rmsea']\n",
    "        index = AGFI - RMSEA * 10\n",
    "        sigmoidIndex = 1/(1 + np.exp(-index)) \n",
    "        return sigmoidIndex\n",
    "    except:\n",
    "        return 0\n",
    "\n",
    "def dict2des(dataDict, seperator):\n",
    "    dataDes = ''\n",
    "    for parent in dataDict.keys():\n",
    "        if not dataDict[parent]:\n",
    "            continue;\n",
    "        \n",
    "        relaDes = '' \n",
    "        for son in dataDict[parent]:\n",
    "            if not relaDes:\n",
    "                relaDes += son\n",
    "            else:\n",
    "                relaDes += ' + ' + son\n",
    "                \n",
    "        dataDes += parent + ' ' + seperator + ' ' + relaDes + '\\n'\n",
    "       \n",
    "    return dataDes\n",
    "    \n",
    "@ag.args(**searchSpace)\n",
    "def rl_simulation(args, reporter):\n",
    "    measurementDict = {fac: [] for fac in facNames}\n",
    "    regressionsDict = {fac: [] for fac in facNames} \n",
    "    facNum = len(facNames)\n",
    "    edge_cnt = 0\n",
    "    \n",
    "    for var, choice in args.items():\n",
    "        if var == 'task_id': \n",
    "            continue\n",
    "        elif var[0] != '(':  # measurement\n",
    "            measurementDict[choice].append(var)\n",
    "        else:  # regressions\n",
    "            varTuple = eval(var)\n",
    "            if choice == 1:\n",
    "                regressionsDict[varTuple[0]].append(varTuple[1])\n",
    "            elif choice == 2:\n",
    "                regressionsDict[varTuple[1]].append(varTuple[0])\n",
    "            elif choice == 3:\n",
    "                regressionsDict[varTuple[0]].append(varTuple[1])\n",
    "                regressionsDict[varTuple[1]].append(varTuple[0])\n",
    "            if choice > 0:\n",
    "                edge_cnt = edge_cnt + 1\n",
    "    \n",
    "    if (edge_cnt > math.ceil(facNum * math.log(facNum, 2))):\n",
    "        reporter(reward=0)\n",
    "        return\n",
    "\n",
    "    # Prior knowledge from SEM.\n",
    "    for fac, ind in measurementDict.items():\n",
    "        if (len(ind) < 2):\n",
    "            reporter(reward=0)\n",
    "            return\n",
    "    \n",
    "    modelDes = dict2des(measurementDict, '=~') + \\\n",
    "               dict2des(regressionsDict, '~')\n",
    "    \n",
    "    reward = evaluateSolution(modelDes)\n",
    "    \n",
    "    reporter(reward=reward)\n",
    "    "
   ]
  },
  {
   "cell_type": "markdown",
   "metadata": {},
   "source": [
    "### 3.2. Search Strategy"
   ]
  },
  {
   "cell_type": "code",
   "execution_count": 5,
   "metadata": {},
   "outputs": [
    {
     "name": "stderr",
     "output_type": "stream",
     "text": [
      "scheduler_options: Key 'resume': Imputing default value False\n",
      "scheduler_options: Key 'checkpoint': Imputing default value ./exp/checkpoint.ag\n",
      "scheduler_options: Key 'ema_baseline_decay': Imputing default value 0.95\n",
      "scheduler_options: Key 'controller_resource': Imputing default value {'num_cpus': 0, 'num_gpus': 0}\n",
      "scheduler_options: Key 'sync': Imputing default value True\n",
      "\n",
      "scheduler_options: Key 'time_attr': Imputing default value epoch\n",
      "scheduler_options: Key 'visualizer': Imputing default value none\n",
      "scheduler_options: Key 'training_history_callback_delta_secs': Imputing default value 60\n",
      "scheduler_options: Key 'delay_get_config': Imputing default value True\n",
      "\n",
      "Reserved DistributedResource(\n",
      "\tNode = Remote REMOTE_ID: 0, \n",
      "\t<Remote: 'inproc://192.168.248.128/30233/1' processes=1 threads=4, memory=8.16 GB>\n",
      "\tnCPUs = 0) in Remote REMOTE_ID: 0, \n",
      "\t<Remote: 'inproc://192.168.248.128/30233/1' processes=1 threads=4, memory=8.16 GB>\n",
      "Starting Experiments\n",
      "Num of Finished Tasks is 0\n",
      "Num of Pending Tasks is 200\n"
     ]
    },
    {
     "data": {
      "application/vnd.jupyter.widget-view+json": {
       "model_id": "b78d8cedeb104f0f916c560ff4c1213a",
       "version_major": 2,
       "version_minor": 0
      },
      "text/plain": [
       "VBox(children=(HBox(children=(IntProgress(value=0, max=51), HTML(value=''))), HTML(value='')))"
      ]
     },
     "metadata": {},
     "output_type": "display_data"
    },
    {

     "name": "stdout",
     "output_type": "stream",
     "text": [
      "Error in evaluate_sem_model function.\n",
      "Error in evaluate_sem_model function.\n",
      "\n",
      "Best config: {'y1▁choice': 0, 'y2▁choice': 1, 'y3▁choice': 1, 'y4▁choice': 1, 'y5▁choice': 1, 'y6▁choice': 0, 'y7▁choice': 0, 'y8▁choice': 1, 'x1▁choice': 2, 'x2▁choice': 2, 'x3▁choice': 2, \"('factor2', 'factor1')▁choice\": 1, \"('factor3', 'factor1')▁choice\": 2, \"('factor3', 'factor2')▁choice\": 2}, best reward: 0.4451052196984714\n"
     ]
    }
   ],
   "source": [
    "# Running the following code might crash Python.\n",
    "# This problem is caused by the multiprocessing of the RL algorithm and lavaan in R.\n",
    "# But the numeric part has been take care of, so the result is not currupted.\n",
    "rl_scheduler = ag.scheduler.RLScheduler(rl_simulation,\n",
    "                                        resource={'num_cpus': 1, 'num_gpus': 0},\n",
    "                                        num_trials=200,\n",
    "                                        reward_attr='reward',\n",
    "                                        controller_batch_size=4,\n",
    "                                        controller_lr=5e-3,)\n",
    "\n",
    "rl_scheduler.run()\n",
    "rl_scheduler.join_jobs()\n",
    "    \n",
    "print('Best config: {}, best reward: {}'.format(rl_scheduler.get_best_config(), rl_scheduler.get_best_reward()))"
   ]
  },
  {
   "cell_type": "markdown",
   "metadata": {},
   "source": [
    "### 3.3. Learning Curve"
   ]
  },
  {
   "cell_type": "code",
   "execution_count": 6,
   "metadata": {},
   "outputs": [
    {
     "data": {
      "text/plain": [
       "[<matplotlib.lines.Line2D at 0x7f4c6826b860>]"
      ]
     },
     "execution_count": 6,
     "metadata": {},
     "output_type": "execute_result"
    },
    {
     "data": {

      "image/png": "[encoded data removed]",
      "text/plain": [
       "<Figure size 432x288 with 1 Axes>"
      ]
     },
     "metadata": {
      "needs_background": "light"
     },
     "output_type": "display_data"
    }
   ],
   "source": [
    "curveRL = [v[0]['reward'] for v in rl_scheduler.training_history.values()]\n",
    "curveSmooth = [np.max(curveRL[i:i+5]) for i in range(0, len(curveRL), 5)]\n",
    "\n",
    "plt.plot(range(len(curveSmooth)), curveSmooth)"
   ]
  },
  {
   "cell_type": "markdown",
   "metadata": {},
   "source": [
    "## 4. Comparison\n",
    "\n",
    "Now let's compare those conventional SEM and DSEM. First let's started with conventional SEM."
   ]
  },
  {
   "cell_type": "code",
   "execution_count": 7,
   "metadata": {},
   "outputs": [
    {
     "data": {
      "text/plain": [
       "0.43871110839477384"
      ]
     },
     "execution_count": 7,
     "metadata": {},
     "output_type": "execute_result"
    }
   ],
   "source": [
    "model = '''\n",
    "  # measurement model\n",
    "    ind60 =~ x1 + x2 + x3\n",
    "    dem60 =~ y1 + y2 + y3 + y4\n",
    "    dem65 =~ y5 + y6 + y7 + y8\n",
    "  # regressions\n",
    "    dem60 ~ ind60\n",
    "    dem65 ~ ind60 + dem60\n",
    "'''\n",
    "\n",
    "evaluateSolution(model)"
   ]
  },
  {
   "cell_type": "markdown",
   "metadata": {},
   "source": [
    "Now let's move to DSEM."
   ]
  },
  {
   "cell_type": "code",
   "execution_count": 8,
   "metadata": {},
   "outputs": [
    {
     "name": "stdout",
     "output_type": "stream",
     "text": [
      "The best model looks like:\n",
      "factor1 =~ y1 + y6 + y7\n",
      "factor2 =~ y2 + y3 + y4 + y5 + y8\n",
      "factor3 =~ x1 + x2 + x3\n",
      "factor1 ~ factor3\n",
      "factor2 ~ factor1 + factor3\n",
      "\n"
     ]
    },
    {
     "data": {
      "text/plain": [
       "0.4451052196984714"
      ]
     },
     "execution_count": 8,
     "metadata": {},
     "output_type": "execute_result"
    }
   ],
   "source": [
    "args = rl_scheduler.get_best_config()\n",
    "\n",
    "measurementDict = {fac: [] for fac in facNames}\n",
    "regressionsDict = {fac: [] for fac in facNames} \n",
    "        \n",
    "for var, choice in args.items():\n",
    "    var = var.split('▁')[0]\n",
    "    if var[0] != '(':  # measurement\n",
    "        measurementDict[facNames[choice]].append(var)\n",
    "    else:  # regressions\n",
    "        varTuple = eval(var)\n",
    "        if choice == 1:\n",
    "            regressionsDict[varTuple[0]].append(varTuple[1])\n",
    "        elif choice == 2:\n",
    "            regressionsDict[varTuple[1]].append(varTuple[0])\n",
    "        elif choice == 3:\n",
    "            regressionsDict[varTuple[0]].append(varTuple[1])\n",
    "            regressionsDict[varTuple[1]].append(varTuple[0])\n",
    "\n",
    "modelDes = dict2des(measurementDict, '=~') + \\\n",
    "           dict2des(regressionsDict, '~')\n",
    "\n",
    "print('The best model looks like:\\n' + modelDes)\n",
    "    \n",
    "evaluateSolution(modelDes)"
   ]
  }
 ],
 "metadata": {
  "kernelspec": {
   "display_name": "Python 3",
   "language": "python",
   "name": "python3"
  },
  "language_info": {
   "codemirror_mode": {
    "name": "ipython",
    "version": 3
   },
   "file_extension": ".py",
   "mimetype": "text/x-python",
   "name": "python",
   "nbconvert_exporter": "python",
   "pygments_lexer": "ipython3",
   "version": "3.6.8"
  }
 },
 "nbformat": 4,
 "nbformat_minor": 2
}
