{
 "cells": [
  {
   "cell_type": "markdown",
   "metadata": {},
   "source": [
    "# Fully Funtioning Backend Demo\n",
    "\n",
    "This notebook is designed to show how the DSEM pipeline works. It's fully funtioning, using SEM and RL NAS. Please fasten your seat belt and enjoy the journey."
   ]
  },
  {
   "cell_type": "code",
   "execution_count": 1,
   "metadata": {},
   "outputs": [
    {
     "ename": "ModuleNotFoundError",
     "evalue": "No module named 'numpy'",
     "output_type": "error",
     "traceback": [
      "\u001b[0;31m---------------------------------------------------------------------------\u001b[0m",
      "\u001b[0;31mModuleNotFoundError\u001b[0m                       Traceback (most recent call last)",
      "\u001b[0;32m<ipython-input-1-b8f04adc5c6c>\u001b[0m in \u001b[0;36m<module>\u001b[0;34m\u001b[0m\n\u001b[0;32m----> 1\u001b[0;31m \u001b[0;32mimport\u001b[0m \u001b[0mnumpy\u001b[0m \u001b[0;32mas\u001b[0m \u001b[0mnp\u001b[0m\u001b[0;34m\u001b[0m\u001b[0;34m\u001b[0m\u001b[0m\n\u001b[0m\u001b[1;32m      2\u001b[0m \u001b[0;32mimport\u001b[0m \u001b[0mpandas\u001b[0m \u001b[0;32mas\u001b[0m \u001b[0mpd\u001b[0m\u001b[0;34m\u001b[0m\u001b[0;34m\u001b[0m\u001b[0m\n\u001b[1;32m      3\u001b[0m \u001b[0;32mimport\u001b[0m \u001b[0mautogluon\u001b[0m \u001b[0;32mas\u001b[0m \u001b[0mag\u001b[0m\u001b[0;34m\u001b[0m\u001b[0;34m\u001b[0m\u001b[0m\n\u001b[1;32m      4\u001b[0m \u001b[0;32mimport\u001b[0m \u001b[0mrpy2\u001b[0m\u001b[0;34m.\u001b[0m\u001b[0mrobjects\u001b[0m \u001b[0;32mas\u001b[0m \u001b[0mro\u001b[0m\u001b[0;34m\u001b[0m\u001b[0;34m\u001b[0m\u001b[0m\n\u001b[1;32m      5\u001b[0m \u001b[0;32mimport\u001b[0m \u001b[0mmatplotlib\u001b[0m\u001b[0;34m.\u001b[0m\u001b[0mpyplot\u001b[0m \u001b[0;32mas\u001b[0m \u001b[0mplt\u001b[0m\u001b[0;34m\u001b[0m\u001b[0;34m\u001b[0m\u001b[0m\n",
      "\u001b[0;31mModuleNotFoundError\u001b[0m: No module named 'numpy'"
     ]
    }
   ],
   "source": [
    "import numpy as np\n",
    "import pandas as pd\n",
    "import autogluon as ag\n",
    "import rpy2.robjects as ro\n",
    "import matplotlib.pyplot as plt\n",
    "\n",
    "from SEM import SemModel"
   ]
  },
  {
   "cell_type": "markdown",
   "metadata": {},
   "source": [
    "## 1. Data\n",
    "\n",
    "In this demo, we use dataset _PoliticalDemocracy_ from Bollen's book on structural equation modeling published in 1989. We load this dataset in R and convert it to Python Dataframe for further usage."
   ]
  },
  {
   "cell_type": "code",
   "execution_count": null,
   "metadata": {},
   "outputs": [],
   "source": [
    "# Load this dataset in R.\n",
    "ro.packages.importr('lavaan')\n",
    "rData = ro.r('PoliticalDemocracy')\n",
    "\n",
    "# Convert it to Python Dataframe.\n",
    "with ro.conversion.localconverter(ro.default_converter + ro.pandas2ri.converter):\n",
    "    data = ro.conversion.rpy2py(rData)\n",
    "data.describe()"
   ]
  },
  {
   "cell_type": "markdown",
   "metadata": {},
   "source": [
    "## 2. Conventional SEM\n",
    "\n",
    "After loading this dataset, let's play with the conventional SEM. It is a truth universally acknowledged, that SEM is rather confirmative than explorative. So the very only way to play with the conventional SEM is to run SEM on a manually proposed model.\n",
    "\n",
    "Therefore, we use the model from lavaan (a package in R) official tutorial as an example."
   ]
  },
  {
   "cell_type": "code",
   "execution_count": null,
   "metadata": {},
   "outputs": [],
   "source": [
    "# Describe the model\n",
    "model = '''\n",
    "  # measurement model\n",
    "    ind60 =~ x1 + x2 + x3\n",
    "    dem60 =~ y1 + y2 + y3 + y4\n",
    "    dem65 =~ y5 + y6 + y7 + y8\n",
    "  # regressions\n",
    "    dem60 ~ ind60\n",
    "    dem65 ~ ind60 + dem60\n",
    "'''\n",
    "\n",
    "# Create the model and fit the data.\n",
    "sem = SemModel()\n",
    "buildRes = sem.build_sem_model(model)\n",
    "assert buildRes\n",
    "fitRes = sem.fit_sem_model(data)\n",
    "assert fitRes['is_fitted']\n",
    "\n",
    "# Evaluate the model fitted.\n",
    "measureRes = sem.evaluate_sem_model()\n",
    "print('AGFI: %f \\nRMSEA: %f' % (\n",
    "    measureRes['agfi'], \n",
    "    measureRes['rmsea']))"
   ]
  },
  {
   "cell_type": "markdown",
   "metadata": {},
   "source": [
    "## 3. Deep SEM\n",
    "\n",
    "Now let's try to apply RL NAS technology to SEM. In this section, we define the search space first, and then the search strategy, finally let's combine everything together.\n",
    "\n",
    "Firstly, let's start with search space.\n",
    "\n",
    "### 3.1. Search Space"
   ]
  },
  {
   "cell_type": "code",
   "execution_count": null,
   "metadata": {},
   "outputs": [],
   "source": [
    "facNames = ['factor1', 'factor2', 'factor3']  # Use the same factor number as the model propsoed above.\n",
    "facNum = len(facNames)\n",
    "varNames = data.columns\n",
    "varNum = len(varNames)\n",
    "\n",
    "# Define the search space.\n",
    "searchSpace = {var: ag.space.Categorical(*facNames) \n",
    "               for var in varNames}  # Define search space for measurement model\n",
    "for i in range(facNum):  # Define search space for regressions model\n",
    "    for j in range(i):\n",
    "        searchSpace[str((facNames[i], facNames[j]))] = ag.space.Categorical(*list(range(3)))\n",
    "\n",
    "def evaluateSolution(model):\n",
    "    try:\n",
    "        sem = SemModel()\n",
    "\n",
    "        buildRes = sem.build_sem_model(model)\n",
    "        if not buildRes:\n",
    "            return 0\n",
    "\n",
    "        fitRes = sem.fit_sem_model(data)\n",
    "        if not fitRes['is_fitted']:\n",
    "            return 0\n",
    "\n",
    "        measureRes = sem.evaluate_sem_model()\n",
    "        if not measureRes['is_evaluated']:\n",
    "            return 0\n",
    "\n",
    "        AGFI = measureRes['agfi']\n",
    "        RMSEA = measureRes['rmsea']\n",
    "        index = AGFI - RMSEA * 10\n",
    "        sigmoidIndex = 1/(1 + np.exp(-index)) \n",
    "        return sigmoidIndex\n",
    "    except:\n",
    "        return 0\n",
    "\n",
    "def dict2des(dataDict, seperator):\n",
    "    dataDes = ''\n",
    "    for parent in dataDict.keys():\n",
    "        if not dataDict[parent]:\n",
    "            continue;\n",
    "        \n",
    "        relaDes = '' \n",
    "        for son in dataDict[parent]:\n",
    "            if not relaDes:\n",
    "                relaDes += son\n",
    "            else:\n",
    "                relaDes += ' + ' + son\n",
    "                \n",
    "        dataDes += parent + ' ' + seperator + ' ' + relaDes + '\\n'\n",
    "       \n",
    "    return dataDes\n",
    "    \n",
    "@ag.args(**searchSpace)\n",
    "def rl_simulation(args, reporter):\n",
    "    measurementDict = {fac: [] for fac in facNames}\n",
    "    regressionsDict = {fac: [] for fac in facNames} \n",
    "        \n",
    "    for var, choice in args.items():\n",
    "        if var == 'task_id': \n",
    "            continue\n",
    "        elif var[0] != '(':  # measurement\n",
    "            measurementDict[choice].append(var)\n",
    "        else:  # regressions\n",
    "            varTuple = eval(var)\n",
    "            if choice == 1:\n",
    "                regressionsDict[varTuple[0]].append(varTuple[1])\n",
    "            elif choice == 2:\n",
    "                regressionsDict[varTuple[1]].append(varTuple[0])\n",
    "    \n",
    "    # Prior knowledge from SEM.\n",
    "    for fac, ind in measurementDict.items():\n",
    "        if (len(ind) < 2):\n",
    "            reporter(reward=0)\n",
    "            return\n",
    "    \n",
    "    modelDes = dict2des(measurementDict, '=~') + \\\n",
    "               dict2des(regressionsDict, '~')\n",
    "    \n",
    "    reward = evaluateSolution(modelDes)\n",
    "    \n",
    "    reporter(reward=reward)\n",
    "    "
   ]
  },
  {
   "cell_type": "markdown",
   "metadata": {},
   "source": [
    "### 3.2. Search Strategy"
   ]
  },
  {
   "cell_type": "code",
   "execution_count": null,
   "metadata": {},
   "outputs": [],
   "source": [
    "# Running the following code might crash Python.\n",
    "# This problem is caused by the multiprocessing of the RL algorithm and lavaan in R.\n",
    "# But the numeric part has been take care of, so the result is not currupted.\n",
    "rl_scheduler = ag.scheduler.RLScheduler(rl_simulation,\n",
    "                                        resource={'num_cpus': 1, 'num_gpus': 0},\n",
    "                                        num_trials=200,\n",
    "                                        reward_attr='reward',\n",
    "                                        controller_batch_size=4,\n",
    "                                        controller_lr=5e-3,)\n",
    "\n",
    "rl_scheduler.run()\n",
    "rl_scheduler.join_jobs()\n",
    "    \n",
    "print('Best config: {}, best reward: {}'.format(rl_scheduler.get_best_config(), rl_scheduler.get_best_reward()))"
   ]
  },
  {
   "cell_type": "markdown",
   "metadata": {},
   "source": [
    "### 3.3. Learning Curve"
   ]
  },
  {
   "cell_type": "code",
   "execution_count": null,
   "metadata": {},
   "outputs": [],
   "source": [
    "curveRL = [v[0]['reward'] for v in rl_scheduler.training_history.values()]\n",
    "curveSmooth = [np.max(curveRL[i:i+5]) for i in range(0, len(curveRL), 5)]\n",
    "\n",
    "plt.plot(range(len(curveSmooth)), curveSmooth)\n"
   ]
  },
  {
   "cell_type": "markdown",
   "metadata": {},
   "source": [
    "## 4. Comparison\n",
    "\n",
    "Now let's compare those conventional SEM and DSEM. First let's started with conventional SEM."
   ]
  },
  {
   "cell_type": "code",
   "execution_count": null,
   "metadata": {},
   "outputs": [],
   "source": [
    "model = '''\n",
    "  # measurement model\n",
    "    ind60 =~ x1 + x2 + x3\n",
    "    dem60 =~ y1 + y2 + y3 + y4\n",
    "    dem65 =~ y5 + y6 + y7 + y8\n",
    "  # regressions\n",
    "    dem60 ~ ind60\n",
    "    dem65 ~ ind60 + dem60\n",
    "'''\n",
    "\n",
    "evaluateSolution(model)"
   ]
  },
  {
   "cell_type": "markdown",
   "metadata": {},
   "source": [
    "Now let's move to DSEM."
   ]
  },
  {
   "cell_type": "code",
   "execution_count": null,
   "metadata": {},
   "outputs": [],
   "source": [
    "args = rl_scheduler.get_best_config()\n",
    "\n",
    "measurementDict = {fac: [] for fac in facNames}\n",
    "regressionsDict = {fac: [] for fac in facNames} \n",
    "        \n",
    "for var, choice in args.items():\n",
    "    var = var.split('▁')[0]\n",
    "    if var[0] != '(':  # measurement\n",
    "        measurementDict[facNames[choice]].append(var)\n",
    "    else:  # regressions\n",
    "        varTuple = eval(var)\n",
    "        if choice == 1:\n",
    "            regressionsDict[varTuple[0]].append(varTuple[1])\n",
    "        elif choice == 2:\n",
    "            regressionsDict[varTuple[1]].append(varTuple[0])\n",
    "\n",
    "modelDes = dict2des(measurementDict, '=~') + \\\n",
    "           dict2des(regressionsDict, '~')\n",
    "\n",
    "print('The best model looks like:\\n' + modelDes)\n",
    "    \n",
    "evaluateSolution(modelDes)"
   ]
  },
  {
   "cell_type": "code",
   "execution_count": null,
   "metadata": {},
   "outputs": [],
   "source": []
  }
 ],
 "metadata": {
  "kernelspec": {
   "display_name": "Python 3",
   "language": "python",
   "name": "python3"
  },
  "language_info": {
   "codemirror_mode": {
    "name": "ipython",
    "version": 3
   },
   "file_extension": ".py",
   "mimetype": "text/x-python",
   "name": "python",
   "nbconvert_exporter": "python",
   "pygments_lexer": "ipython3",
   "version": "3.7.3"
  }
 },
 "nbformat": 4,
 "nbformat_minor": 2
}
